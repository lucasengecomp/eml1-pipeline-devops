{
 "cells": [
  {
   "cell_type": "markdown",
   "metadata": {},
   "source": [
    "# Documentation"
   ]
  },
  {
   "cell_type": "markdown",
   "metadata": {},
   "source": [
    "# Sample"
   ]
  },
  {
   "cell_type": "code",
   "execution_count": 1,
   "metadata": {},
   "outputs": [
    {
     "name": "stdout",
     "output_type": "stream",
     "text": [
      "Requirement already satisfied: nltk in /Users/t734582/homebrew/lib/python3.10/site-packages (3.7)\n",
      "Requirement already satisfied: tqdm in /Users/t734582/homebrew/lib/python3.10/site-packages (from nltk) (4.64.0)\n",
      "Requirement already satisfied: click in /Users/t734582/homebrew/lib/python3.10/site-packages (from nltk) (8.0.4)\n",
      "Requirement already satisfied: joblib in /Users/t734582/homebrew/lib/python3.10/site-packages (from nltk) (1.1.0)\n",
      "Requirement already satisfied: regex>=2021.8.3 in /Users/t734582/homebrew/lib/python3.10/site-packages (from nltk) (2022.3.15)\n",
      "Requirement already satisfied: matplotlib in /Users/t734582/homebrew/lib/python3.10/site-packages (3.5.1)\n",
      "Requirement already satisfied: fonttools>=4.22.0 in /Users/t734582/homebrew/lib/python3.10/site-packages (from matplotlib) (4.32.0)\n",
      "Requirement already satisfied: cycler>=0.10 in /Users/t734582/homebrew/lib/python3.10/site-packages (from matplotlib) (0.11.0)\n",
      "Requirement already satisfied: pillow>=6.2.0 in /Users/t734582/homebrew/lib/python3.10/site-packages (from matplotlib) (9.1.0)\n",
      "Requirement already satisfied: python-dateutil>=2.7 in /Users/t734582/homebrew/lib/python3.10/site-packages (from matplotlib) (2.8.2)\n",
      "Requirement already satisfied: kiwisolver>=1.0.1 in /Users/t734582/homebrew/lib/python3.10/site-packages (from matplotlib) (1.4.2)\n",
      "Requirement already satisfied: packaging>=20.0 in /Users/t734582/homebrew/lib/python3.10/site-packages (from matplotlib) (21.3)\n",
      "Requirement already satisfied: pyparsing>=2.2.1 in /Users/t734582/homebrew/lib/python3.10/site-packages (from matplotlib) (3.0.8)\n",
      "Requirement already satisfied: numpy>=1.17 in /Users/t734582/homebrew/lib/python3.10/site-packages (from matplotlib) (1.22.3)\n",
      "Requirement already satisfied: six>=1.5 in /Users/t734582/homebrew/lib/python3.10/site-packages (from python-dateutil>=2.7->matplotlib) (1.16.0)\n",
      "Requirement already satisfied: seaborn in /Users/t734582/homebrew/lib/python3.10/site-packages (0.11.2)\n",
      "Requirement already satisfied: scipy>=1.0 in /Users/t734582/homebrew/lib/python3.10/site-packages (from seaborn) (1.8.0)\n",
      "Requirement already satisfied: pandas>=0.23 in /Users/t734582/homebrew/lib/python3.10/site-packages (from seaborn) (1.4.2)\n",
      "Requirement already satisfied: matplotlib>=2.2 in /Users/t734582/homebrew/lib/python3.10/site-packages (from seaborn) (3.5.1)\n",
      "Requirement already satisfied: numpy>=1.15 in /Users/t734582/homebrew/lib/python3.10/site-packages (from seaborn) (1.22.3)\n",
      "Requirement already satisfied: python-dateutil>=2.7 in /Users/t734582/homebrew/lib/python3.10/site-packages (from matplotlib>=2.2->seaborn) (2.8.2)\n",
      "Requirement already satisfied: fonttools>=4.22.0 in /Users/t734582/homebrew/lib/python3.10/site-packages (from matplotlib>=2.2->seaborn) (4.32.0)\n",
      "Requirement already satisfied: pillow>=6.2.0 in /Users/t734582/homebrew/lib/python3.10/site-packages (from matplotlib>=2.2->seaborn) (9.1.0)\n",
      "Requirement already satisfied: kiwisolver>=1.0.1 in /Users/t734582/homebrew/lib/python3.10/site-packages (from matplotlib>=2.2->seaborn) (1.4.2)\n",
      "Requirement already satisfied: pyparsing>=2.2.1 in /Users/t734582/homebrew/lib/python3.10/site-packages (from matplotlib>=2.2->seaborn) (3.0.8)\n",
      "Requirement already satisfied: cycler>=0.10 in /Users/t734582/homebrew/lib/python3.10/site-packages (from matplotlib>=2.2->seaborn) (0.11.0)\n",
      "Requirement already satisfied: packaging>=20.0 in /Users/t734582/homebrew/lib/python3.10/site-packages (from matplotlib>=2.2->seaborn) (21.3)\n",
      "Requirement already satisfied: pytz>=2020.1 in /Users/t734582/homebrew/lib/python3.10/site-packages (from pandas>=0.23->seaborn) (2022.1)\n",
      "Requirement already satisfied: six>=1.5 in /Users/t734582/homebrew/lib/python3.10/site-packages (from python-dateutil>=2.7->matplotlib>=2.2->seaborn) (1.16.0)\n",
      "Requirement already satisfied: sklearn in /Users/t734582/homebrew/lib/python3.10/site-packages (0.0)\n",
      "Requirement already satisfied: scikit-learn in /Users/t734582/homebrew/lib/python3.10/site-packages (from sklearn) (1.0.2)\n",
      "Requirement already satisfied: joblib>=0.11 in /Users/t734582/homebrew/lib/python3.10/site-packages (from scikit-learn->sklearn) (1.1.0)\n",
      "Requirement already satisfied: scipy>=1.1.0 in /Users/t734582/homebrew/lib/python3.10/site-packages (from scikit-learn->sklearn) (1.8.0)\n",
      "Requirement already satisfied: threadpoolctl>=2.0.0 in /Users/t734582/homebrew/lib/python3.10/site-packages (from scikit-learn->sklearn) (3.1.0)\n",
      "Requirement already satisfied: numpy>=1.14.6 in /Users/t734582/homebrew/lib/python3.10/site-packages (from scikit-learn->sklearn) (1.22.3)\n"
     ]
    }
   ],
   "source": [
    "import sys \n",
    "!{sys.executable} -m pip install nltk \n",
    "!{sys.executable} -m pip install matplotlib\n",
    "!{sys.executable} -m pip install seaborn\n",
    "!{sys.executable} -m pip install sklearn"
   ]
  },
  {
   "cell_type": "code",
   "execution_count": 2,
   "metadata": {
    "marvin_cell": "acquisitor"
   },
   "outputs": [
    {
     "name": "stderr",
     "output_type": "stream",
     "text": [
      "[nltk_data] Downloading package stopwords to\n",
      "[nltk_data]     /Users/t734582/nltk_data...\n",
      "[nltk_data]   Package stopwords is already up-to-date!\n"
     ]
    },
    {
     "data": {
      "text/html": [
       "<div>\n",
       "<style scoped>\n",
       "    .dataframe tbody tr th:only-of-type {\n",
       "        vertical-align: middle;\n",
       "    }\n",
       "\n",
       "    .dataframe tbody tr th {\n",
       "        vertical-align: top;\n",
       "    }\n",
       "\n",
       "    .dataframe thead th {\n",
       "        text-align: right;\n",
       "    }\n",
       "</style>\n",
       "<table border=\"1\" class=\"dataframe\">\n",
       "  <thead>\n",
       "    <tr style=\"text-align: right;\">\n",
       "      <th></th>\n",
       "      <th>categoria</th>\n",
       "      <th>tokens</th>\n",
       "      <th>strings</th>\n",
       "    </tr>\n",
       "  </thead>\n",
       "  <tbody>\n",
       "    <tr>\n",
       "      <th>0</th>\n",
       "      <td>livro</td>\n",
       "      <td>[hobbit, 7ª, ed, 2013, produto, novobilbo, bol...</td>\n",
       "      <td>hobbit 7ª ed 2013 produto novobilbo bolseiro h...</td>\n",
       "    </tr>\n",
       "    <tr>\n",
       "      <th>1</th>\n",
       "      <td>livro</td>\n",
       "      <td>[livro, it, coisa, stephen, king, produto, nov...</td>\n",
       "      <td>livro it coisa stephen king produto novodurant...</td>\n",
       "    </tr>\n",
       "    <tr>\n",
       "      <th>2</th>\n",
       "      <td>livro</td>\n",
       "      <td>[box, crônicas, gelo, fogo, pocket, 5, livros,...</td>\n",
       "      <td>box crônicas gelo fogo pocket 5 livros produto...</td>\n",
       "    </tr>\n",
       "    <tr>\n",
       "      <th>3</th>\n",
       "      <td>livro</td>\n",
       "      <td>[box, harry, potter, produto, novo, físico, sé...</td>\n",
       "      <td>box harry potter produto novo físico série har...</td>\n",
       "    </tr>\n",
       "    <tr>\n",
       "      <th>4</th>\n",
       "      <td>livro</td>\n",
       "      <td>[livro, origem, dan, brown, produto, novode, o...</td>\n",
       "      <td>livro origem dan brown produto novode onde vie...</td>\n",
       "    </tr>\n",
       "  </tbody>\n",
       "</table>\n",
       "</div>"
      ],
      "text/plain": [
       "  categoria                                             tokens  \\\n",
       "0     livro  [hobbit, 7ª, ed, 2013, produto, novobilbo, bol...   \n",
       "1     livro  [livro, it, coisa, stephen, king, produto, nov...   \n",
       "2     livro  [box, crônicas, gelo, fogo, pocket, 5, livros,...   \n",
       "3     livro  [box, harry, potter, produto, novo, físico, sé...   \n",
       "4     livro  [livro, origem, dan, brown, produto, novode, o...   \n",
       "\n",
       "                                             strings  \n",
       "0  hobbit 7ª ed 2013 produto novobilbo bolseiro h...  \n",
       "1  livro it coisa stephen king produto novodurant...  \n",
       "2  box crônicas gelo fogo pocket 5 livros produto...  \n",
       "3  box harry potter produto novo físico série har...  \n",
       "4  livro origem dan brown produto novode onde vie...  "
      ]
     },
     "execution_count": 2,
     "metadata": {},
     "output_type": "execute_result"
    }
   ],
   "source": [
    "import pandas as pd\n",
    "import nltk\n",
    "from nltk.corpus import stopwords\n",
    "\n",
    "nltk.download('stopwords')\n",
    "\n",
    "products_data = pd.read_csv(\"produtos.csv\", delimiter=';', encoding='utf-8')\n",
    "\n",
    "# concatenando as colunas nome e descricao\n",
    "products_data['informacao'] = products_data['nome'] + products_data['descricao']\n",
    "# excluindo linhas com valor de informacao ou categoria NaN\n",
    "products_data.dropna(subset=['informacao', 'categoria'], inplace=True)\n",
    "products_data.drop(columns=['nome', 'descricao'], inplace=True)\n",
    "\n",
    "stop_words=set(stopwords.words(\"portuguese\"))\n",
    "# transforma a string em caixa baixa e remove stopwords\n",
    "products_data['sem_stopwords'] = products_data['informacao'].str.lower().apply(lambda x: ' '.join([word for word in x.split() if word not in (stop_words)]))\n",
    "\n",
    "tokenizer = nltk.RegexpTokenizer(r\"\\w+\")\n",
    "products_data['tokens'] = products_data['sem_stopwords'].apply(tokenizer.tokenize) # aplica o regex tokenizer\n",
    "products_data.drop(columns=['sem_stopwords','informacao'],inplace=True) # Exclui as colunas antigas\n",
    "\n",
    "products_data[\"strings\"]= products_data[\"tokens\"].str.join(\" \") # reunindo cada elemento da lista\n",
    "products_data.head()\n"
   ]
  },
  {
   "cell_type": "code",
   "execution_count": 3,
   "metadata": {
    "marvin_cell": "tpreparator"
   },
   "outputs": [],
   "source": [
    "from sklearn.feature_extraction.text import CountVectorizer\n",
    "from sklearn.model_selection import train_test_split\n",
    "\n",
    "X_train,X_test,y_train,y_test = train_test_split( # Separação dos dados para teste e treino\n",
    "    products_data[\"strings\"], \n",
    "    products_data[\"categoria\"], \n",
    "    test_size = 0.2, \n",
    "    random_state = 10\n",
    ")\n",
    "# CountVectorizer\n",
    "vect = CountVectorizer()\n",
    "vect.fit(products_data[\"strings\"])\n",
    "\n",
    "dataset = { \n",
    "    \"X_train\": vect.transform(X_train),\n",
    "    \"X_test\": vect.transform(X_test),\n",
    "    \"y_train\": y_train,\n",
    "    \"y_test\" : y_test,\n",
    "    \"vect\": vect\n",
    "}"
   ]
  },
  {
   "cell_type": "code",
   "execution_count": 4,
   "metadata": {
    "marvin_cell": "trainer"
   },
   "outputs": [],
   "source": [
    "from sklearn.naive_bayes import MultinomialNB\n",
    "\n",
    "\n",
    "clf = MultinomialNB()\n",
    "clf.fit(dataset[\"X_train\"], dataset[\"y_train\"])\n",
    "\n",
    "model = {\n",
    "    \"clf\" : clf,\n",
    "    \"vect\": dataset[\"vect\"]\n",
    "}"
   ]
  },
  {
   "cell_type": "code",
   "execution_count": 5,
   "metadata": {
    "marvin_cell": "evaluator"
   },
   "outputs": [],
   "source": [
    "from sklearn.metrics import accuracy_score\n",
    "from sklearn import metrics\n",
    "# Multinomial NB\n",
    "y_prediction = model[\"clf\"].predict(dataset[\"X_test\"])\n",
    "accuracy = accuracy_score(y_prediction, dataset[\"y_test\"])\n"
   ]
  },
  {
   "cell_type": "code",
   "execution_count": 6,
   "metadata": {},
   "outputs": [],
   "source": [
    "input_message = [\"Figura Transformers Prime War Deluxe - E9687 - Hasbro\"]"
   ]
  },
  {
   "cell_type": "code",
   "execution_count": 7,
   "metadata": {
    "marvin_cell": "ppreparator"
   },
   "outputs": [
    {
     "name": "stdout",
     "output_type": "stream",
     "text": [
      "['Figura Transformers Prime War Deluxe - E9687 - Hasbro']\n"
     ]
    }
   ],
   "source": [
    "print(input_message)\n",
    "input_message = model[\"vect\"].transform(input_message)"
   ]
  },
  {
   "cell_type": "code",
   "execution_count": 8,
   "metadata": {
    "marvin_cell": "predictor"
   },
   "outputs": [
    {
     "name": "stdout",
     "output_type": "stream",
     "text": [
      "Predicted value: brinquedo\n"
     ]
    }
   ],
   "source": [
    "final_prediction = model[\"clf\"].predict(input_message)[0]\n",
    "print(\"Predicted value: \" + final_prediction)"
   ]
  },
  {
   "cell_type": "code",
   "execution_count": 10,
   "metadata": {},
   "outputs": [],
   "source": [
    "from sklearn.naive_bayes import MultinomialNB\n",
    "# Biblioteca para salvar objetos Python em disco\n",
    "import pickle\n",
    "\n",
    "clf = MultinomialNB()\n",
    "clf.fit(dataset[\"X_train\"], dataset[\"y_train\"])\n",
    "\n",
    "model = {\n",
    "    \"clf\" : clf,\n",
    "    \"vect\": dataset[\"vect\"]\n",
    "}\n",
    "# Salva o modelo em um arquivo\n",
    "pickle.dump(model, open(\"model.sav\", 'wb'))"
   ]
  },
  {
   "cell_type": "code",
   "execution_count": null,
   "metadata": {},
   "outputs": [],
   "source": []
  }
 ],
 "metadata": {
  "kernelspec": {
   "display_name": "Python 3 (ipykernel)",
   "language": "python",
   "name": "python3"
  },
  "language_info": {
   "codemirror_mode": {
    "name": "ipython",
    "version": 3
   },
   "file_extension": ".py",
   "mimetype": "text/x-python",
   "name": "python",
   "nbconvert_exporter": "python",
   "pygments_lexer": "ipython3",
   "version": "3.10.2"
  }
 },
 "nbformat": 4,
 "nbformat_minor": 1
}
